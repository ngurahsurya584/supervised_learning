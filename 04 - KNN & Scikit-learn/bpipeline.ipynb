{
 "cells": [
  {
   "attachments": {},
   "cell_type": "markdown",
   "metadata": {},
   "source": [
    "# Membuat Pipeline "
   ]
  },
  {
   "cell_type": "code",
   "execution_count": 1,
   "metadata": {},
   "outputs": [],
   "source": [
    "import pandas as pd \n",
    "from sklearn.model_selection import train_test_split"
   ]
  },
  {
   "cell_type": "code",
   "execution_count": 3,
   "metadata": {},
   "outputs": [],
   "source": [
    "df = pd.read_csv('data/titanic.csv', index_col='PassengerId')\n",
    "df.drop(columns=['Name', 'Ticket', 'Age', 'Cabin'], inplace=True)"
   ]
  },
  {
   "cell_type": "code",
   "execution_count": 4,
   "metadata": {},
   "outputs": [
    {
     "data": {
      "text/plain": [
       "((712, 6), (179, 6), (712,), (179,))"
      ]
     },
     "execution_count": 4,
     "metadata": {},
     "output_type": "execute_result"
    }
   ],
   "source": [
    "x = df.drop(columns=['Survived'])\n",
    "y = df['Survived']\n",
    "\n",
    "x_train, x_test, y_train, y_test = train_test_split(x, y, test_size=0.2, stratify=y, random_state=42)\n",
    "x_train.shape, x_test.shape, y_train.shape, y_test.shape"
   ]
  },
  {
   "cell_type": "code",
   "execution_count": 17,
   "metadata": {},
   "outputs": [],
   "source": [
    "from sklearn.pipeline import Pipeline\n",
    "from sklearn.compose import ColumnTransformer\n"
   ]
  },
  {
   "cell_type": "code",
   "execution_count": 11,
   "metadata": {},
   "outputs": [],
   "source": [
    "numerical_pipeline = Pipeline([\n",
    "    (\"imputer\", SimpleImputer(strategy=\"mean\")), \n",
    "    (\"scaler\", MinMaxScaler())\n",
    "    \n",
    "])\n",
    "                              \n",
    "categorical_pipeline = Pipeline([\n",
    "    (\"imputer\", SimpleImputer(strategy=\"most_frequent\")),\n",
    "    (\"onehot\", OneHotEncoder()),\n",
    "])\n",
    "\n"
   ]
  },
  {
   "cell_type": "code",
   "execution_count": 12,
   "metadata": {},
   "outputs": [
    {
     "data": {
      "text/html": [
       "<div>\n",
       "<style scoped>\n",
       "    .dataframe tbody tr th:only-of-type {\n",
       "        vertical-align: middle;\n",
       "    }\n",
       "\n",
       "    .dataframe tbody tr th {\n",
       "        vertical-align: top;\n",
       "    }\n",
       "\n",
       "    .dataframe thead th {\n",
       "        text-align: right;\n",
       "    }\n",
       "</style>\n",
       "<table border=\"1\" class=\"dataframe\">\n",
       "  <thead>\n",
       "    <tr style=\"text-align: right;\">\n",
       "      <th></th>\n",
       "      <th>Pclass</th>\n",
       "      <th>Sex</th>\n",
       "      <th>SibSp</th>\n",
       "      <th>Parch</th>\n",
       "      <th>Fare</th>\n",
       "      <th>Embarked</th>\n",
       "    </tr>\n",
       "    <tr>\n",
       "      <th>PassengerId</th>\n",
       "      <th></th>\n",
       "      <th></th>\n",
       "      <th></th>\n",
       "      <th></th>\n",
       "      <th></th>\n",
       "      <th></th>\n",
       "    </tr>\n",
       "  </thead>\n",
       "  <tbody>\n",
       "    <tr>\n",
       "      <th>693</th>\n",
       "      <td>3</td>\n",
       "      <td>male</td>\n",
       "      <td>0</td>\n",
       "      <td>0</td>\n",
       "      <td>56.4958</td>\n",
       "      <td>S</td>\n",
       "    </tr>\n",
       "    <tr>\n",
       "      <th>482</th>\n",
       "      <td>2</td>\n",
       "      <td>male</td>\n",
       "      <td>0</td>\n",
       "      <td>0</td>\n",
       "      <td>0.0000</td>\n",
       "      <td>S</td>\n",
       "    </tr>\n",
       "    <tr>\n",
       "      <th>528</th>\n",
       "      <td>1</td>\n",
       "      <td>male</td>\n",
       "      <td>0</td>\n",
       "      <td>0</td>\n",
       "      <td>221.7792</td>\n",
       "      <td>S</td>\n",
       "    </tr>\n",
       "    <tr>\n",
       "      <th>856</th>\n",
       "      <td>3</td>\n",
       "      <td>female</td>\n",
       "      <td>0</td>\n",
       "      <td>1</td>\n",
       "      <td>9.3500</td>\n",
       "      <td>S</td>\n",
       "    </tr>\n",
       "    <tr>\n",
       "      <th>802</th>\n",
       "      <td>2</td>\n",
       "      <td>female</td>\n",
       "      <td>1</td>\n",
       "      <td>1</td>\n",
       "      <td>26.2500</td>\n",
       "      <td>S</td>\n",
       "    </tr>\n",
       "  </tbody>\n",
       "</table>\n",
       "</div>"
      ],
      "text/plain": [
       "             Pclass     Sex  SibSp  Parch      Fare Embarked\n",
       "PassengerId                                                 \n",
       "693               3    male      0      0   56.4958        S\n",
       "482               2    male      0      0    0.0000        S\n",
       "528               1    male      0      0  221.7792        S\n",
       "856               3  female      0      1    9.3500        S\n",
       "802               2  female      1      1   26.2500        S"
      ]
     },
     "execution_count": 12,
     "metadata": {},
     "output_type": "execute_result"
    }
   ],
   "source": [
    "x_train.head()"
   ]
  },
  {
   "cell_type": "code",
   "execution_count": 18,
   "metadata": {},
   "outputs": [],
   "source": [
    "preprocessor = ColumnTransformer([\n",
    "    (\"numeric\", numerical_pipeline, ['SibSp', 'Parch', 'Fare']),\n",
    "    (\"categorical\", categorical_pipeline, ['Pclass', 'Sex', 'Embarked'])\n",
    "])"
   ]
  },
  {
   "cell_type": "code",
   "execution_count": 20,
   "metadata": {},
   "outputs": [],
   "source": [
    "from sklearn.neighbors import KNeighborsClassifier"
   ]
  },
  {
   "cell_type": "code",
   "execution_count": 28,
   "metadata": {},
   "outputs": [],
   "source": [
    "pipeline = Pipeline([\n",
    "    ('prep', preprocessor),\n",
    "    ('algo', KNeighborsClassifier())    \n",
    "])"
   ]
  },
  {
   "cell_type": "code",
   "execution_count": 29,
   "metadata": {},
   "outputs": [
    {
     "data": {
      "text/plain": [
       "Pipeline(steps=[('prep',\n",
       "                 ColumnTransformer(transformers=[('numeric',\n",
       "                                                  Pipeline(steps=[('imputer',\n",
       "                                                                   SimpleImputer()),\n",
       "                                                                  ('scaler',\n",
       "                                                                   MinMaxScaler())]),\n",
       "                                                  ['SibSp', 'Parch', 'Fare']),\n",
       "                                                 ('categorical',\n",
       "                                                  Pipeline(steps=[('imputer',\n",
       "                                                                   SimpleImputer(strategy='most_frequent')),\n",
       "                                                                  ('onehot',\n",
       "                                                                   OneHotEncoder())]),\n",
       "                                                  ['Pclass', 'Sex',\n",
       "                                                   'Embarked'])])),\n",
       "                ('algo', KNeighborsClassifier())])"
      ]
     },
     "execution_count": 29,
     "metadata": {},
     "output_type": "execute_result"
    }
   ],
   "source": [
    "pipeline.fit(x_train, y_train)"
   ]
  },
  {
   "cell_type": "code",
   "execution_count": 30,
   "metadata": {},
   "outputs": [
    {
     "data": {
      "text/plain": [
       "0.776536312849162"
      ]
     },
     "execution_count": 30,
     "metadata": {},
     "output_type": "execute_result"
    }
   ],
   "source": [
    "pipeline.score(x_test, y_test)"
   ]
  },
  {
   "attachments": {},
   "cell_type": "markdown",
   "metadata": {},
   "source": [
    "# membuat model dengan GridSearchCV"
   ]
  },
  {
   "cell_type": "code",
   "execution_count": 31,
   "metadata": {},
   "outputs": [],
   "source": [
    "from sklearn.model_selection import GridSearchCV"
   ]
  },
  {
   "cell_type": "code",
   "execution_count": 35,
   "metadata": {},
   "outputs": [
    {
     "name": "stdout",
     "output_type": "stream",
     "text": [
      "Fitting 3 folds for each of 100 candidates, totalling 300 fits\n"
     ]
    },
    {
     "data": {
      "text/plain": [
       "GridSearchCV(cv=3,\n",
       "             estimator=Pipeline(steps=[('prep',\n",
       "                                        ColumnTransformer(transformers=[('numeric',\n",
       "                                                                         Pipeline(steps=[('imputer',\n",
       "                                                                                          SimpleImputer()),\n",
       "                                                                                         ('scaler',\n",
       "                                                                                          MinMaxScaler())]),\n",
       "                                                                         ['SibSp',\n",
       "                                                                          'Parch',\n",
       "                                                                          'Fare']),\n",
       "                                                                        ('categorical',\n",
       "                                                                         Pipeline(steps=[('imputer',\n",
       "                                                                                          SimpleImputer(strategy='most_frequent')),\n",
       "                                                                                         ('onehot',\n",
       "                                                                                          OneHotEncoder())]),\n",
       "                                                                         ['Pclass',\n",
       "                                                                          'Sex',\n",
       "                                                                          'Embarked'])])),\n",
       "                                       ('algo', KNeighborsClassifier())]),\n",
       "             n_jobs=-1,\n",
       "             param_grid={'algo__n_neighbors': range(1, 51, 2),\n",
       "                         'algo__p': [1, 2],\n",
       "                         'algo__weights': ['uniform', 'distance']},\n",
       "             verbose=1)"
      ]
     },
     "execution_count": 35,
     "metadata": {},
     "output_type": "execute_result"
    }
   ],
   "source": [
    "parameter = {\n",
    "    \"algo__n_neighbors\": range(1, 51, 2),\n",
    "    \"algo__weights\": ['uniform', 'distance'],\n",
    "    \"algo__p\" : [1, 2]\n",
    "}\n",
    "\n",
    "model = GridSearchCV(pipeline, parameter, cv=3, n_jobs=-1, verbose=1)\n",
    "\n",
    "model.fit(x_train, y_train)"
   ]
  },
  {
   "cell_type": "code",
   "execution_count": 39,
   "metadata": {},
   "outputs": [
    {
     "data": {
      "text/html": [
       "<div>\n",
       "<style scoped>\n",
       "    .dataframe tbody tr th:only-of-type {\n",
       "        vertical-align: middle;\n",
       "    }\n",
       "\n",
       "    .dataframe tbody tr th {\n",
       "        vertical-align: top;\n",
       "    }\n",
       "\n",
       "    .dataframe thead th {\n",
       "        text-align: right;\n",
       "    }\n",
       "</style>\n",
       "<table border=\"1\" class=\"dataframe\">\n",
       "  <thead>\n",
       "    <tr style=\"text-align: right;\">\n",
       "      <th></th>\n",
       "      <th>mean_fit_time</th>\n",
       "      <th>std_fit_time</th>\n",
       "      <th>mean_score_time</th>\n",
       "      <th>std_score_time</th>\n",
       "      <th>param_algo__n_neighbors</th>\n",
       "      <th>param_algo__p</th>\n",
       "      <th>param_algo__weights</th>\n",
       "      <th>params</th>\n",
       "      <th>split0_test_score</th>\n",
       "      <th>split1_test_score</th>\n",
       "      <th>split2_test_score</th>\n",
       "      <th>mean_test_score</th>\n",
       "      <th>std_test_score</th>\n",
       "      <th>rank_test_score</th>\n",
       "    </tr>\n",
       "  </thead>\n",
       "  <tbody>\n",
       "    <tr>\n",
       "      <th>40</th>\n",
       "      <td>0.075215</td>\n",
       "      <td>0.028367</td>\n",
       "      <td>0.095931</td>\n",
       "      <td>0.014849</td>\n",
       "      <td>21</td>\n",
       "      <td>1</td>\n",
       "      <td>uniform</td>\n",
       "      <td>{'algo__n_neighbors': 21, 'algo__p': 1, 'algo_...</td>\n",
       "      <td>0.815126</td>\n",
       "      <td>0.818565</td>\n",
       "      <td>0.810127</td>\n",
       "      <td>0.814606</td>\n",
       "      <td>0.003465</td>\n",
       "      <td>1</td>\n",
       "    </tr>\n",
       "    <tr>\n",
       "      <th>36</th>\n",
       "      <td>0.101112</td>\n",
       "      <td>0.028743</td>\n",
       "      <td>0.111473</td>\n",
       "      <td>0.023468</td>\n",
       "      <td>19</td>\n",
       "      <td>1</td>\n",
       "      <td>uniform</td>\n",
       "      <td>{'algo__n_neighbors': 19, 'algo__p': 1, 'algo_...</td>\n",
       "      <td>0.815126</td>\n",
       "      <td>0.818565</td>\n",
       "      <td>0.805907</td>\n",
       "      <td>0.813200</td>\n",
       "      <td>0.005344</td>\n",
       "      <td>2</td>\n",
       "    </tr>\n",
       "    <tr>\n",
       "      <th>24</th>\n",
       "      <td>0.087956</td>\n",
       "      <td>0.022612</td>\n",
       "      <td>0.091001</td>\n",
       "      <td>0.016545</td>\n",
       "      <td>13</td>\n",
       "      <td>1</td>\n",
       "      <td>uniform</td>\n",
       "      <td>{'algo__n_neighbors': 13, 'algo__p': 1, 'algo_...</td>\n",
       "      <td>0.819328</td>\n",
       "      <td>0.810127</td>\n",
       "      <td>0.810127</td>\n",
       "      <td>0.813194</td>\n",
       "      <td>0.004337</td>\n",
       "      <td>3</td>\n",
       "    </tr>\n",
       "    <tr>\n",
       "      <th>28</th>\n",
       "      <td>0.087066</td>\n",
       "      <td>0.013919</td>\n",
       "      <td>0.125875</td>\n",
       "      <td>0.031031</td>\n",
       "      <td>15</td>\n",
       "      <td>1</td>\n",
       "      <td>uniform</td>\n",
       "      <td>{'algo__n_neighbors': 15, 'algo__p': 1, 'algo_...</td>\n",
       "      <td>0.819328</td>\n",
       "      <td>0.810127</td>\n",
       "      <td>0.810127</td>\n",
       "      <td>0.813194</td>\n",
       "      <td>0.004337</td>\n",
       "      <td>3</td>\n",
       "    </tr>\n",
       "    <tr>\n",
       "      <th>38</th>\n",
       "      <td>0.065475</td>\n",
       "      <td>0.007606</td>\n",
       "      <td>0.093661</td>\n",
       "      <td>0.012524</td>\n",
       "      <td>19</td>\n",
       "      <td>2</td>\n",
       "      <td>uniform</td>\n",
       "      <td>{'algo__n_neighbors': 19, 'algo__p': 2, 'algo_...</td>\n",
       "      <td>0.815126</td>\n",
       "      <td>0.814346</td>\n",
       "      <td>0.805907</td>\n",
       "      <td>0.811793</td>\n",
       "      <td>0.004174</td>\n",
       "      <td>5</td>\n",
       "    </tr>\n",
       "    <tr>\n",
       "      <th>...</th>\n",
       "      <td>...</td>\n",
       "      <td>...</td>\n",
       "      <td>...</td>\n",
       "      <td>...</td>\n",
       "      <td>...</td>\n",
       "      <td>...</td>\n",
       "      <td>...</td>\n",
       "      <td>...</td>\n",
       "      <td>...</td>\n",
       "      <td>...</td>\n",
       "      <td>...</td>\n",
       "      <td>...</td>\n",
       "      <td>...</td>\n",
       "      <td>...</td>\n",
       "    </tr>\n",
       "    <tr>\n",
       "      <th>5</th>\n",
       "      <td>0.076801</td>\n",
       "      <td>0.029050</td>\n",
       "      <td>0.046349</td>\n",
       "      <td>0.012769</td>\n",
       "      <td>3</td>\n",
       "      <td>1</td>\n",
       "      <td>distance</td>\n",
       "      <td>{'algo__n_neighbors': 3, 'algo__p': 1, 'algo__...</td>\n",
       "      <td>0.760504</td>\n",
       "      <td>0.734177</td>\n",
       "      <td>0.751055</td>\n",
       "      <td>0.748579</td>\n",
       "      <td>0.010890</td>\n",
       "      <td>95</td>\n",
       "    </tr>\n",
       "    <tr>\n",
       "      <th>3</th>\n",
       "      <td>0.074010</td>\n",
       "      <td>0.009046</td>\n",
       "      <td>0.043081</td>\n",
       "      <td>0.013710</td>\n",
       "      <td>1</td>\n",
       "      <td>2</td>\n",
       "      <td>distance</td>\n",
       "      <td>{'algo__n_neighbors': 1, 'algo__p': 2, 'algo__...</td>\n",
       "      <td>0.752101</td>\n",
       "      <td>0.683544</td>\n",
       "      <td>0.772152</td>\n",
       "      <td>0.735932</td>\n",
       "      <td>0.037938</td>\n",
       "      <td>97</td>\n",
       "    </tr>\n",
       "    <tr>\n",
       "      <th>2</th>\n",
       "      <td>0.073930</td>\n",
       "      <td>0.011364</td>\n",
       "      <td>0.090498</td>\n",
       "      <td>0.017349</td>\n",
       "      <td>1</td>\n",
       "      <td>2</td>\n",
       "      <td>uniform</td>\n",
       "      <td>{'algo__n_neighbors': 1, 'algo__p': 2, 'algo__...</td>\n",
       "      <td>0.752101</td>\n",
       "      <td>0.683544</td>\n",
       "      <td>0.772152</td>\n",
       "      <td>0.735932</td>\n",
       "      <td>0.037938</td>\n",
       "      <td>97</td>\n",
       "    </tr>\n",
       "    <tr>\n",
       "      <th>1</th>\n",
       "      <td>0.064949</td>\n",
       "      <td>0.004673</td>\n",
       "      <td>0.039343</td>\n",
       "      <td>0.007967</td>\n",
       "      <td>1</td>\n",
       "      <td>1</td>\n",
       "      <td>distance</td>\n",
       "      <td>{'algo__n_neighbors': 1, 'algo__p': 1, 'algo__...</td>\n",
       "      <td>0.747899</td>\n",
       "      <td>0.683544</td>\n",
       "      <td>0.763713</td>\n",
       "      <td>0.731719</td>\n",
       "      <td>0.034671</td>\n",
       "      <td>99</td>\n",
       "    </tr>\n",
       "    <tr>\n",
       "      <th>0</th>\n",
       "      <td>0.072929</td>\n",
       "      <td>0.017310</td>\n",
       "      <td>0.091009</td>\n",
       "      <td>0.029850</td>\n",
       "      <td>1</td>\n",
       "      <td>1</td>\n",
       "      <td>uniform</td>\n",
       "      <td>{'algo__n_neighbors': 1, 'algo__p': 1, 'algo__...</td>\n",
       "      <td>0.747899</td>\n",
       "      <td>0.683544</td>\n",
       "      <td>0.763713</td>\n",
       "      <td>0.731719</td>\n",
       "      <td>0.034671</td>\n",
       "      <td>99</td>\n",
       "    </tr>\n",
       "  </tbody>\n",
       "</table>\n",
       "<p>100 rows × 14 columns</p>\n",
       "</div>"
      ],
      "text/plain": [
       "    mean_fit_time  std_fit_time  mean_score_time  std_score_time  \\\n",
       "40       0.075215      0.028367         0.095931        0.014849   \n",
       "36       0.101112      0.028743         0.111473        0.023468   \n",
       "24       0.087956      0.022612         0.091001        0.016545   \n",
       "28       0.087066      0.013919         0.125875        0.031031   \n",
       "38       0.065475      0.007606         0.093661        0.012524   \n",
       "..            ...           ...              ...             ...   \n",
       "5        0.076801      0.029050         0.046349        0.012769   \n",
       "3        0.074010      0.009046         0.043081        0.013710   \n",
       "2        0.073930      0.011364         0.090498        0.017349   \n",
       "1        0.064949      0.004673         0.039343        0.007967   \n",
       "0        0.072929      0.017310         0.091009        0.029850   \n",
       "\n",
       "   param_algo__n_neighbors param_algo__p param_algo__weights  \\\n",
       "40                      21             1             uniform   \n",
       "36                      19             1             uniform   \n",
       "24                      13             1             uniform   \n",
       "28                      15             1             uniform   \n",
       "38                      19             2             uniform   \n",
       "..                     ...           ...                 ...   \n",
       "5                        3             1            distance   \n",
       "3                        1             2            distance   \n",
       "2                        1             2             uniform   \n",
       "1                        1             1            distance   \n",
       "0                        1             1             uniform   \n",
       "\n",
       "                                               params  split0_test_score  \\\n",
       "40  {'algo__n_neighbors': 21, 'algo__p': 1, 'algo_...           0.815126   \n",
       "36  {'algo__n_neighbors': 19, 'algo__p': 1, 'algo_...           0.815126   \n",
       "24  {'algo__n_neighbors': 13, 'algo__p': 1, 'algo_...           0.819328   \n",
       "28  {'algo__n_neighbors': 15, 'algo__p': 1, 'algo_...           0.819328   \n",
       "38  {'algo__n_neighbors': 19, 'algo__p': 2, 'algo_...           0.815126   \n",
       "..                                                ...                ...   \n",
       "5   {'algo__n_neighbors': 3, 'algo__p': 1, 'algo__...           0.760504   \n",
       "3   {'algo__n_neighbors': 1, 'algo__p': 2, 'algo__...           0.752101   \n",
       "2   {'algo__n_neighbors': 1, 'algo__p': 2, 'algo__...           0.752101   \n",
       "1   {'algo__n_neighbors': 1, 'algo__p': 1, 'algo__...           0.747899   \n",
       "0   {'algo__n_neighbors': 1, 'algo__p': 1, 'algo__...           0.747899   \n",
       "\n",
       "    split1_test_score  split2_test_score  mean_test_score  std_test_score  \\\n",
       "40           0.818565           0.810127         0.814606        0.003465   \n",
       "36           0.818565           0.805907         0.813200        0.005344   \n",
       "24           0.810127           0.810127         0.813194        0.004337   \n",
       "28           0.810127           0.810127         0.813194        0.004337   \n",
       "38           0.814346           0.805907         0.811793        0.004174   \n",
       "..                ...                ...              ...             ...   \n",
       "5            0.734177           0.751055         0.748579        0.010890   \n",
       "3            0.683544           0.772152         0.735932        0.037938   \n",
       "2            0.683544           0.772152         0.735932        0.037938   \n",
       "1            0.683544           0.763713         0.731719        0.034671   \n",
       "0            0.683544           0.763713         0.731719        0.034671   \n",
       "\n",
       "    rank_test_score  \n",
       "40                1  \n",
       "36                2  \n",
       "24                3  \n",
       "28                3  \n",
       "38                5  \n",
       "..              ...  \n",
       "5                95  \n",
       "3                97  \n",
       "2                97  \n",
       "1                99  \n",
       "0                99  \n",
       "\n",
       "[100 rows x 14 columns]"
      ]
     },
     "execution_count": 39,
     "metadata": {},
     "output_type": "execute_result"
    }
   ],
   "source": [
    "pd.DataFrame(model.cv_results_).sort_values(by= 'rank_test_score')"
   ]
  },
  {
   "cell_type": "code",
   "execution_count": 40,
   "metadata": {},
   "outputs": [
    {
     "data": {
      "text/plain": [
       "{'algo__n_neighbors': 21, 'algo__p': 1, 'algo__weights': 'uniform'}"
      ]
     },
     "execution_count": 40,
     "metadata": {},
     "output_type": "execute_result"
    }
   ],
   "source": [
    "model.best_params_"
   ]
  },
  {
   "cell_type": "code",
   "execution_count": 41,
   "metadata": {},
   "outputs": [
    {
     "data": {
      "text/plain": [
       "0.8146060111808436"
      ]
     },
     "execution_count": 41,
     "metadata": {},
     "output_type": "execute_result"
    }
   ],
   "source": [
    "model.best_score_"
   ]
  },
  {
   "cell_type": "code",
   "execution_count": 42,
   "metadata": {},
   "outputs": [
    {
     "data": {
      "text/plain": [
       "0.7821229050279329"
      ]
     },
     "execution_count": 42,
     "metadata": {},
     "output_type": "execute_result"
    }
   ],
   "source": [
    "model.score(x_test, y_test)"
   ]
  }
 ],
 "metadata": {
  "kernelspec": {
   "display_name": "jcopml",
   "language": "python",
   "name": "python3"
  },
  "language_info": {
   "codemirror_mode": {
    "name": "ipython",
    "version": 3
   },
   "file_extension": ".py",
   "mimetype": "text/x-python",
   "name": "python",
   "nbconvert_exporter": "python",
   "pygments_lexer": "ipython3",
   "version": "3.9.0"
  },
  "orig_nbformat": 4
 },
 "nbformat": 4,
 "nbformat_minor": 2
}
